{
 "cells": [
  {
   "cell_type": "markdown",
   "metadata": {},
   "source": [
    "# Auto_DoE\n",
    "\n",
    "This is a collection of scripts which are useful in creating various common Design of Experiments (DoE) designs. It consists of the following files:\n",
    "\n",
    "1. **Features.xlsx**: Excel file containing the feature names and levels.\n",
    "2. **Common_DoEs.py**: Python file which takes the info from Features.xlsx and creates the most common DoEs for those features.\n",
    "3. **Optimal_Design.R**: R file for creating optimal designs."
   ]
  },
  {
   "cell_type": "markdown",
   "metadata": {},
   "source": [
    "# Features.xlsx\n",
    "\n",
    "Features.xlsx contains two tabs: the 'Continuous' and the 'Categorical' tabs, each of which contain continuous and categorical features. Note that this only works with Common_DoEs.py."
   ]
  },
  {
   "cell_type": "markdown",
   "metadata": {},
   "source": [
    "### Continuous\n",
    "Below is a sample input for 3 continuous features: Temp, pH, and time. Their respective minimum and maximum values are also listed.\n",
    "\n",
    "![Features (continuous)](docs/images/Features_cont.jpg)"
   ]
  },
  {
   "cell_type": "markdown",
   "metadata": {},
   "source": [
    "\n",
    "### Categorical\n",
    "Below is a sample input for 2 categorical features: Cation and Gas. Note that the name of each categorical feature is in column A while columns B onwards lists their respective levels.\n",
    "\n",
    "![Features (categorical)](docs/images/Features_cat.jpg)"
   ]
  }
 ],
 "metadata": {
  "kernelspec": {
   "display_name": "base",
   "language": "python",
   "name": "python3"
  },
  "language_info": {
   "codemirror_mode": {
    "name": "ipython",
    "version": 3
   },
   "file_extension": ".py",
   "mimetype": "text/x-python",
   "name": "python",
   "nbconvert_exporter": "python",
   "pygments_lexer": "ipython3",
   "version": "3.11.3"
  }
 },
 "nbformat": 4,
 "nbformat_minor": 2
}
